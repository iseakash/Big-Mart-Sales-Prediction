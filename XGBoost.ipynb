{
  "nbformat": 4,
  "nbformat_minor": 0,
  "metadata": {
    "colab": {
      "name": "Untitled17.ipynb",
      "provenance": [],
      "collapsed_sections": []
    },
    "kernelspec": {
      "name": "python3",
      "display_name": "Python 3"
    }
  },
  "cells": [
    {
      "cell_type": "markdown",
      "metadata": {
        "id": "djmdQk7aDlx3",
        "colab_type": "text"
      },
      "source": [
        "#Analytics Vidhya - Big Mart Sales Prediction using XG Boost\n",
        "\n",
        "---\n",
        "\n"
      ]
    },
    {
      "cell_type": "code",
      "metadata": {
        "id": "bqH0EWumO36w",
        "colab_type": "code",
        "colab": {}
      },
      "source": [
        "# Importing the libraries\n",
        "\n",
        "import numpy as np\n",
        "import matplotlib.pyplot as plt\n",
        "import pandas as pd"
      ],
      "execution_count": 1,
      "outputs": []
    },
    {
      "cell_type": "code",
      "metadata": {
        "id": "2CI3naaxPBOG",
        "colab_type": "code",
        "colab": {
          "base_uri": "https://localhost:8080/",
          "height": 101
        },
        "outputId": "1fd6d455-2a24-4859-ebde-d2dd9ca57657"
      },
      "source": [
        "pip install sklearn"
      ],
      "execution_count": 2,
      "outputs": [
        {
          "output_type": "stream",
          "text": [
            "Requirement already satisfied: sklearn in /usr/local/lib/python3.6/dist-packages (0.0)\n",
            "Requirement already satisfied: scikit-learn in /usr/local/lib/python3.6/dist-packages (from sklearn) (0.22.2.post1)\n",
            "Requirement already satisfied: scipy>=0.17.0 in /usr/local/lib/python3.6/dist-packages (from scikit-learn->sklearn) (1.4.1)\n",
            "Requirement already satisfied: joblib>=0.11 in /usr/local/lib/python3.6/dist-packages (from scikit-learn->sklearn) (0.16.0)\n",
            "Requirement already satisfied: numpy>=1.11.0 in /usr/local/lib/python3.6/dist-packages (from scikit-learn->sklearn) (1.18.5)\n"
          ],
          "name": "stdout"
        }
      ]
    },
    {
      "cell_type": "code",
      "metadata": {
        "id": "RXltcgsqO8hD",
        "colab_type": "code",
        "colab": {
          "base_uri": "https://localhost:8080/",
          "height": 84
        },
        "outputId": "a0a2b913-334d-43bc-cc7a-a8e5300706c6"
      },
      "source": [
        "# Importing the dataset\n",
        "\n",
        "dataset = pd.read_csv('train_v9rqX0R.csv')\n",
        "\n",
        "# dropping passed columns \n",
        "dataset.drop([\"Item_Identifier\", \"Outlet_Identifier\"], axis = 1, inplace = True)\n",
        "\n",
        "X = dataset.iloc[:, :-1].values\n",
        "y = dataset.iloc[:, -1].values\n",
        "print(X[0:2,:])"
      ],
      "execution_count": 46,
      "outputs": [
        {
          "output_type": "stream",
          "text": [
            "[[9.3 'Low Fat' 0.016047301 'Dairy' 249.8092 1999 'Medium' 'Tier 1'\n",
            "  'Supermarket Type1']\n",
            " [5.92 'Regular' 0.019278216 'Soft Drinks' 48.2692 2009 'Medium' 'Tier 3'\n",
            "  'Supermarket Type2']]\n"
          ],
          "name": "stdout"
        }
      ]
    },
    {
      "cell_type": "code",
      "metadata": {
        "id": "HA2R353cO9J-",
        "colab_type": "code",
        "colab": {
          "base_uri": "https://localhost:8080/",
          "height": 84
        },
        "outputId": "d0d48ac6-127c-4936-d4b4-f3332371113f"
      },
      "source": [
        "# Taking care of missing data\n",
        "\n",
        "from sklearn.impute import SimpleImputer\n",
        "\n",
        "imputer = SimpleImputer(missing_values=np.nan, strategy='mean')\n",
        "imputer.fit(X[:, 0:1])\n",
        "X[:, 0:1] = imputer.transform(X[:, 0:1])\n",
        "\n",
        "imputerC = SimpleImputer(missing_values=np.nan, strategy='most_frequent')\n",
        "imputerC.fit(X[:, 6:7])\n",
        "X[:, 6:7] = imputerC.transform(X[:, 6:7])\n",
        "print(X[0:2,:])"
      ],
      "execution_count": 47,
      "outputs": [
        {
          "output_type": "stream",
          "text": [
            "[[9.3 'Low Fat' 0.016047301 'Dairy' 249.8092 1999 'Medium' 'Tier 1'\n",
            "  'Supermarket Type1']\n",
            " [5.92 'Regular' 0.019278216 'Soft Drinks' 48.2692 2009 'Medium' 'Tier 3'\n",
            "  'Supermarket Type2']]\n"
          ],
          "name": "stdout"
        }
      ]
    },
    {
      "cell_type": "code",
      "metadata": {
        "id": "hUbciSFkO9Ox",
        "colab_type": "code",
        "colab": {
          "base_uri": "https://localhost:8080/",
          "height": 118
        },
        "outputId": "6860a672-da41-4b35-9a1a-a14147109a51"
      },
      "source": [
        "# Encoding the Independent Variable\n",
        "\n",
        "from sklearn.compose import ColumnTransformer\n",
        "from sklearn.preprocessing import OneHotEncoder\n",
        "\n",
        "ct = ColumnTransformer(transformers=[('encoder', OneHotEncoder(), [1,6,7,8])], remainder='passthrough')\n",
        "X = np.array(ct.fit_transform(X))\n",
        "ct1 = ColumnTransformer(transformers=[('encoder', OneHotEncoder(), [17])], remainder='passthrough')\n",
        "X = np.array(ct1.fit_transform(X))\n",
        "print(X[0:2,:])"
      ],
      "execution_count": 48,
      "outputs": [
        {
          "output_type": "stream",
          "text": [
            "[[0.0 0.0 0.0 0.0 1.0 0.0 0.0 0.0 0.0 0.0 0.0 0.0 0.0 0.0 0.0 0.0 0.0 1.0\n",
            "  0.0 0.0 0.0 0.0 1.0 0.0 1.0 0.0 0.0 0.0 1.0 0.0 0.0 9.3 0.016047301\n",
            "  249.8092 1999]\n",
            " [0.0 0.0 0.0 0.0 0.0 0.0 0.0 0.0 0.0 0.0 0.0 0.0 0.0 0.0 1.0 0.0 0.0 0.0\n",
            "  1.0 0.0 0.0 0.0 1.0 0.0 0.0 0.0 1.0 0.0 0.0 1.0 0.0 5.92 0.019278216\n",
            "  48.2692 2009]]\n"
          ],
          "name": "stdout"
        }
      ]
    },
    {
      "cell_type": "code",
      "metadata": {
        "id": "D2XU1QLRmw29",
        "colab_type": "code",
        "colab": {
          "base_uri": "https://localhost:8080/",
          "height": 34
        },
        "outputId": "3f8d4d93-2d2c-4191-ce3e-7aa28dda3bce"
      },
      "source": [
        "print(len(X[0,:]))"
      ],
      "execution_count": 29,
      "outputs": [
        {
          "output_type": "stream",
          "text": [
            "35\n"
          ],
          "name": "stdout"
        }
      ]
    },
    {
      "cell_type": "code",
      "metadata": {
        "id": "8ZxQWpp6O9VM",
        "colab_type": "code",
        "colab": {}
      },
      "source": [
        "# Splitting the dataset into the Training set and Test set\n",
        "\n",
        "from sklearn.model_selection import train_test_split\n",
        "\n",
        "X_train, X_test, y_train, y_test = train_test_split(X, y, test_size = 0.2, random_state = 10)"
      ],
      "execution_count": 49,
      "outputs": []
    },
    {
      "cell_type": "code",
      "metadata": {
        "id": "bKUKzuc0O9X3",
        "colab_type": "code",
        "colab": {
          "base_uri": "https://localhost:8080/",
          "height": 218
        },
        "outputId": "c9c2ca31-524a-4447-cf4e-3de0204af420"
      },
      "source": [
        "# Feature Scaling\n",
        "\n",
        "from sklearn.preprocessing import StandardScaler\n",
        "\n",
        "sc = StandardScaler()\n",
        "X_train[:,33:35] = sc.fit_transform(X_train[:,33:35])\n",
        "X_test[:,33:35] = sc.transform(X_test[:,33:35])\n",
        "print(X_train[0:2,:])\n",
        "print(X_test[0:2,:])"
      ],
      "execution_count": 50,
      "outputs": [
        {
          "output_type": "stream",
          "text": [
            "[[0.0 0.0 0.0 0.0 1.0 0.0 0.0 0.0 0.0 0.0 0.0 0.0 0.0 0.0 0.0 0.0 0.0 0.0\n",
            "  1.0 0.0 0.0 0.0 1.0 0.0 0.0 0.0 1.0 0.0 0.0 1.0 0.0 16.0 0.065328932\n",
            "  -0.9983682771732724 1.3355882534350187]\n",
            " [0.0 0.0 0.0 0.0 0.0 0.0 1.0 0.0 0.0 0.0 0.0 0.0 0.0 0.0 0.0 0.0 0.0 1.0\n",
            "  0.0 0.0 0.0 0.0 1.0 0.0 0.0 1.0 0.0 0.0 1.0 0.0 0.0 19.7 0.053330653\n",
            "  -1.3475058922808114 0.502595323513695]]\n",
            "[[0.0 0.0 0.0 0.0 0.0 0.0 0.0 0.0 0.0 0.0 0.0 0.0 0.0 0.0 1.0 0.0 0.0 1.0\n",
            "  0.0 0.0 0.0 0.0 1.0 0.0 0.0 0.0 1.0 0.0 0.0 0.0 1.0 12.857645184135976\n",
            "  0.097429924 0.5196700287614647 -1.5203875062952346]\n",
            " [0.0 0.0 1.0 0.0 0.0 0.0 0.0 0.0 0.0 0.0 0.0 0.0 0.0 0.0 0.0 0.0 0.0 0.0\n",
            "  1.0 0.0 0.0 0.0 0.0 1.0 1.0 0.0 0.0 0.0 1.0 0.0 0.0 7.895 0.094567181\n",
            "  -0.5795980909412061 -0.09239962643010784]]\n"
          ],
          "name": "stdout"
        }
      ]
    },
    {
      "cell_type": "code",
      "metadata": {
        "id": "-rcAZkJpBanT",
        "colab_type": "code",
        "colab": {
          "base_uri": "https://localhost:8080/",
          "height": 151
        },
        "outputId": "ccb35fea-b8fc-42c3-9787-ec39b1ed68a6"
      },
      "source": [
        "\"\"\"from sklearn.preprocessing import PolynomialFeatures\n",
        "from sklearn.linear_model import LinearRegression\n",
        "poly_reg = PolynomialFeatures(degree = 4)\n",
        "X_poly = poly_reg.fit_transform(X_train)\n",
        "regressor = LinearRegression()\n",
        "regressor.fit(X_poly, y_train)\"\"\"\n",
        "\n",
        "# Training XGBoost on the Training set\n",
        "\n",
        "from xgboost import XGBRegressor\n",
        "\n",
        "classifier = XGBRegressor()\n",
        "classifier.fit(X_train, y_train)"
      ],
      "execution_count": 51,
      "outputs": [
        {
          "output_type": "stream",
          "text": [
            "[13:46:13] WARNING: /workspace/src/objective/regression_obj.cu:152: reg:linear is now deprecated in favor of reg:squarederror.\n"
          ],
          "name": "stdout"
        },
        {
          "output_type": "execute_result",
          "data": {
            "text/plain": [
              "XGBRegressor(base_score=0.5, booster='gbtree', colsample_bylevel=1,\n",
              "             colsample_bynode=1, colsample_bytree=1, gamma=0,\n",
              "             importance_type='gain', learning_rate=0.1, max_delta_step=0,\n",
              "             max_depth=3, min_child_weight=1, missing=None, n_estimators=100,\n",
              "             n_jobs=1, nthread=None, objective='reg:linear', random_state=0,\n",
              "             reg_alpha=0, reg_lambda=1, scale_pos_weight=1, seed=None,\n",
              "             silent=None, subsample=1, verbosity=1)"
            ]
          },
          "metadata": {
            "tags": []
          },
          "execution_count": 51
        }
      ]
    },
    {
      "cell_type": "code",
      "metadata": {
        "id": "Eh4O1IH2O9eI",
        "colab_type": "code",
        "colab": {}
      },
      "source": [
        "# Predicting the Test set results\n",
        "\n",
        "y_pred = classifier.predict(X_test)"
      ],
      "execution_count": 52,
      "outputs": []
    },
    {
      "cell_type": "code",
      "metadata": {
        "id": "wkRQQZiZO9jo",
        "colab_type": "code",
        "colab": {
          "base_uri": "https://localhost:8080/",
          "height": 34
        },
        "outputId": "f0a76d7e-0b48-4711-9ee9-09c75dab431f"
      },
      "source": [
        "from sklearn.metrics import mean_squared_error\n",
        "from math import sqrt\n",
        "\n",
        "rms = sqrt(mean_squared_error(y_test, y_pred))\n",
        "print(rms)"
      ],
      "execution_count": 53,
      "outputs": [
        {
          "output_type": "stream",
          "text": [
            "1086.9073396035722\n"
          ],
          "name": "stdout"
        }
      ]
    },
    {
      "cell_type": "code",
      "metadata": {
        "id": "FLKX-ZLEBVTn",
        "colab_type": "code",
        "colab": {
          "base_uri": "https://localhost:8080/",
          "height": 34
        },
        "outputId": "aa8db32a-4e13-4636-d1b0-692e39cefaae"
      },
      "source": [
        "print(rms)"
      ],
      "execution_count": 35,
      "outputs": [
        {
          "output_type": "stream",
          "text": [
            "1516.394533850651\n"
          ],
          "name": "stdout"
        }
      ]
    },
    {
      "cell_type": "markdown",
      "metadata": {
        "id": "PPGtarPAEpO6",
        "colab_type": "text"
      },
      "source": [
        "# Applying on Sample Data for Submission"
      ]
    },
    {
      "cell_type": "code",
      "metadata": {
        "id": "SwJRucg0PUIp",
        "colab_type": "code",
        "colab": {}
      },
      "source": [
        "# Importing the Test dataset\n",
        "\n",
        "dataset1 = pd.read_csv('test_AbJTz2l.csv')\n",
        "\n",
        "dataset1.drop([\"Item_Identifier\", \"Outlet_Identifier\"], axis = 1, inplace = True)\n",
        "\n",
        "X_test_o = dataset1.iloc[:, :].values\n",
        "#print(X_test_o[1:5,:])"
      ],
      "execution_count": 54,
      "outputs": []
    },
    {
      "cell_type": "code",
      "metadata": {
        "id": "OOyINKmsPUST",
        "colab_type": "code",
        "colab": {}
      },
      "source": [
        "# Taking care of missing data\n",
        "\n",
        "X_test_o[:, 0:1] = imputer.transform(X_test_o[:, 0:1])\n",
        "X_test_o[:, 6:7] = imputerC.transform(X_test_o[:, 6:7])\n",
        "\n",
        "#print(X_test_o[1:5,:])"
      ],
      "execution_count": 55,
      "outputs": []
    },
    {
      "cell_type": "code",
      "metadata": {
        "id": "WejZsmRBPUVm",
        "colab_type": "code",
        "colab": {}
      },
      "source": [
        "# Encoding the Independent Variable\n",
        "\n",
        "X_test_o = np.array(ct.fit_transform(X_test_o))\n",
        "X_test_o = np.array(ct1.fit_transform(X_test_o))\n",
        "#print(X_test_o[1,-5:-1])"
      ],
      "execution_count": 56,
      "outputs": []
    },
    {
      "cell_type": "code",
      "metadata": {
        "id": "JCwKSFd2DT6v",
        "colab_type": "code",
        "colab": {}
      },
      "source": [
        "X_test_o[:,33:35] = sc.transform(X_test_o[:,33:35])"
      ],
      "execution_count": 57,
      "outputs": []
    },
    {
      "cell_type": "code",
      "metadata": {
        "id": "Zwe9qthx--pF",
        "colab_type": "code",
        "colab": {}
      },
      "source": [
        "# Predicting the Test set results\n",
        "\n",
        "y_pred_o = classifier.predict(X_test_o)\n",
        "#print(y_pred_o)"
      ],
      "execution_count": 58,
      "outputs": []
    },
    {
      "cell_type": "code",
      "metadata": {
        "id": "wwVk6kjPTKm4",
        "colab_type": "code",
        "colab": {}
      },
      "source": [
        "y_pred_o = pd.DataFrame(y_pred_o)\n",
        "y_pred_o.to_csv('name_csv_file.csv')"
      ],
      "execution_count": 60,
      "outputs": []
    }
  ]
}